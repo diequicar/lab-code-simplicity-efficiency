{
 "cells": [
  {
   "cell_type": "code",
   "execution_count": 5,
   "metadata": {},
   "outputs": [
    {
     "name": "stdout",
     "output_type": "stream",
     "text": [
      "Hello I'm a baby calculator, I only know how to add or subtract.\n",
      "\n",
      " It's also important to tell you that I only know the numbers by their English form!\n",
      "\n",
      "\n",
      "\n",
      "Please choose your first number (zero to five): five\n",
      "\n",
      "What do you want to do? plus or minus: plus\n",
      "\n",
      "Please choose your second number (zero to five): two\n",
      "\n",
      "\n",
      "I am not able to answer this question, but I promise that I'm going to learn how!\n"
     ]
    }
   ],
   "source": [
    "numbers = {'zero':0,'one':1,'two':2,'three':3,'four':4,'five':5}\n",
    "result = dict(zip(numbers.values(),numbers.keys()))\n",
    "ops = {'plus': (lambda x,y: x+y), 'minus': (lambda x,y: x-y)}\n",
    "print(\"Hello I'm a baby calculator, I only know how to add or subtract.\\n\\n It's also important to tell you that I only know the numbers by their English form!\\n\\n\")\n",
    "\n",
    "x = input('\\nPlease choose your first number (zero to five): ')\n",
    "while x not in numbers.keys():\n",
    "    print(\"\\n\\t\\t\\tThat's not what i told you, please try again\\n\")\n",
    "    x = input('\\nPlease choose your first number (zero to five): ')\n",
    "operator = input('\\nWhat do you want to do? plus or minus: ')\n",
    "while operator not in ops.keys():\n",
    "    print(\"\\n\\t\\t\\tThat's not what i told you, please try again\\n\")\n",
    "    operator = input('\\nWhat do you want to do? plus or minus: ')\n",
    "y = input('\\nPlease choose your second number (zero to five): ')\n",
    "while y not in numbers.keys():\n",
    "    print(\"\\n\\t\\t\\tThat's not what i told you, please try again\\n\")\n",
    "    y = input('\\nPlease choose your second number (zero to five): ')\n",
    "try:\n",
    "    print('\\n\\n',f'{x}  {operator}  {y} is equal to: ',result[ops[operator](int(numbers[x]),int(numbers[y]))])\n",
    "except:\n",
    "    print(\"\\n\\nI am not able to answer this question, but I promise I'm going to learn how!\")"
   ]
  }
 ],
 "metadata": {
  "anaconda-cloud": {},
  "kernelspec": {
   "display_name": "Python 3",
   "language": "python",
   "name": "python3"
  },
  "language_info": {
   "codemirror_mode": {
    "name": "ipython",
    "version": 3
   },
   "file_extension": ".py",
   "mimetype": "text/x-python",
   "name": "python",
   "nbconvert_exporter": "python",
   "pygments_lexer": "ipython3",
   "version": "3.7.3"
  }
 },
 "nbformat": 4,
 "nbformat_minor": 1
}
