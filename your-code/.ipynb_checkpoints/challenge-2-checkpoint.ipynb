{
 "cells": [
  {
   "cell_type": "code",
   "execution_count": 175,
   "metadata": {},
   "outputs": [
    {
     "name": "stdout",
     "output_type": "stream",
     "text": [
      "Enter minimum string length: 10\n",
      "Enter maximum string length: 100\n",
      "How many random strings to generate? 10\n",
      "['84ny10s5db43fzhv5wtmlgb9j6rzcpupm190p3t6bz9n72e9', '9kry4pdx816fnpzrs4miw0rhunhb67fhp1pmn4i8txs2ymcvwkvtwqchx89nrj5lojuebv', '6pbp9wrrazaroxq9xzgmn2tqdnclw6ct0tvmwidsuvqfm5kzlr0emittkxtrk0', 'ld6q93m2s15qw', '03ybupyarck0xrsk5uo4xnmaq31ype3rd4xlyso8ist2kesve6pa69ks07km0236mnpwhqhejvs528xy67sex', '4eek1bpv58m84ws7hhdjw8vfqirsxpkt7xg7gnu9eyqt62333o2vxb397vowsv3c5kc1deaq70n4osjz6ciumbphrpb30', 'sj148ni9aqab', '8w3bsfa0wdzyypomlkxxo4lv0rui5dq8vl80gjfj1o1nj5fwwxon83qwipi1kl9totinyd2s2z7rwqd7utrsq9fs58tbj2', '1mwen5n32hd06psz688lu8p46ah66t71c5sqkz9gkez3gu', 'vvmlznmpckqml3c3a5o']\n"
     ]
    }
   ],
   "source": [
    "def BatchStringGenerator(n,a,b):\n",
    "    import string\n",
    "    import random\n",
    "    strings = string.ascii_lowercase + string.digits\n",
    "    try:\n",
    "        return [''.join(random.choice(strings) for i in range(random.choice(range(a,b+1)))) for i in range(n)]\n",
    "    except:\n",
    "        print('Incorrect min and max string lengths. Try again.')\n",
    "\n",
    "a = input('Enter minimum string length: ')\n",
    "b = input('Enter maximum string length: ')\n",
    "n = input('How many random strings to generate? ')\n",
    "\n",
    "print(BatchStringGenerator(int(n), int(a), int(b)))"
   ]
  }
 ],
 "metadata": {
  "anaconda-cloud": {},
  "kernelspec": {
   "display_name": "Python 3",
   "language": "python",
   "name": "python3"
  },
  "language_info": {
   "codemirror_mode": {
    "name": "ipython",
    "version": 3
   },
   "file_extension": ".py",
   "mimetype": "text/x-python",
   "name": "python",
   "nbconvert_exporter": "python",
   "pygments_lexer": "ipython3",
   "version": "3.7.3"
  }
 },
 "nbformat": 4,
 "nbformat_minor": 1
}
